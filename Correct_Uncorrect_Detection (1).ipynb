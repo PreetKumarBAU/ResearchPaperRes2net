{
  "nbformat": 4,
  "nbformat_minor": 0,
  "metadata": {
    "colab": {
      "name": "Correct_Uncorrect_Detection.ipynb",
      "provenance": []
    },
    "kernelspec": {
      "name": "python3",
      "display_name": "Python 3"
    },
    "language_info": {
      "name": "python"
    }
  },
  "cells": [
    {
      "cell_type": "code",
      "metadata": {
        "id": "af_zsZXm3oYN"
      },
      "source": [
        "import zipfile\n",
        "with zipfile.ZipFile(\"/content/DOUBLE_UNet_RESULT_VGGNet.zip\", 'r') as zip_ref:\n",
        "    zip_ref.extractall(\"/content\")\n",
        "\n"
      ],
      "execution_count": 15,
      "outputs": []
    },
    {
      "cell_type": "code",
      "metadata": {
        "id": "FiihT1PZFWGd"
      },
      "source": [
        "\n",
        "import cv2\n",
        "import os\n",
        "from google.colab.patches import cv2_imshow\n",
        "import numpy as np\n",
        "images = []\n",
        "import PIL \n",
        "from PIL import Image\n",
        "from PIL import ImageOps\n"
      ],
      "execution_count": 146,
      "outputs": []
    },
    {
      "cell_type": "code",
      "metadata": {
        "id": "n5MnHX94MW7S",
        "colab": {
          "base_uri": "https://localhost:8080/"
        },
        "outputId": "12827428-6d46-420f-9b19-31f738086d5b"
      },
      "source": [
        "from google.colab.patches import cv2_imshow\n",
        "import random\n",
        "files = os.listdir('/content/DOUBLE_UNet_RESULT_VGGNet/')\n",
        "#print(len(files))\n",
        "#l = random.sample(range(0, len(files) ) ,3)\n",
        "f = files.copy()\n",
        "ff = []\n",
        "for file in f:\n",
        "  ff.append(file.split(\".\")[0])\n",
        "\n",
        "fff = []\n",
        "for f in ff:\n",
        "  fff.append(int(f))\n",
        "\n",
        "\n",
        "correct = 0\n",
        "uncorrect = 0\n",
        "\n",
        "images = []\n",
        "for index in fff:\n",
        "  img = cv2.imread('/content/DOUBLE_UNet_RESULT_VGGNet/{}.png'.format(index))\n",
        "\n",
        "  img = cv2.cvtColor(img, cv2.COLOR_BGR2GRAY)\n",
        "\n",
        "  img = np.asarray(img).astype(\"float32\")\n",
        "\n",
        "\n",
        "  img1 = img[: , 270:270 + 250]\n",
        "  img1 = img1/255.0\n",
        "  img1[img1 >= 0.5]  = 255.0\n",
        "  img1[img1 < 0.5] = 0.0\n",
        "\n",
        "  img2 = img[: ,270 + 250 + 30 :  ]\n",
        "  img2 = img2/255.0\n",
        "  img2[img2 >= 0.5]  = 255.0\n",
        "  img2[img2 < 0.5] = 0.0\n",
        "\n",
        "  if np.max(img1) == np.max(img2):\n",
        "    correct +=1\n",
        "  else:\n",
        "    uncorrect +=1\n",
        "\n",
        "  img = cv2.hconcat([img1, img2])\n",
        "\n",
        "\n",
        "  images.append(img)\n",
        "\n",
        "#img = cv2.hconcat(images)\n",
        "\n",
        "#cv2_imshow(img)\n",
        "cv2.waitKey(0)\n",
        "\n",
        "print(\"Correct:\",correct)\n",
        "print(\"Uncorrect:\",uncorrect)\n"
      ],
      "execution_count": 151,
      "outputs": [
        {
          "output_type": "stream",
          "text": [
            "Correct 141\n",
            "Uncorrect 9\n"
          ],
          "name": "stdout"
        }
      ]
    }
  ]
}