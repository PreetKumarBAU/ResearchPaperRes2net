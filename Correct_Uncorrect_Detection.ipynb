{
  "nbformat": 4,
  "nbformat_minor": 0,
  "metadata": {
    "colab": {
      "name": "Correct_Uncorrect_Detection.ipynb",
      "provenance": []
    },
    "kernelspec": {
      "name": "python3",
      "display_name": "Python 3"
    },
    "language_info": {
      "name": "python"
    }
  },
  "cells": [
    {
      "cell_type": "code",
      "metadata": {
        "id": "af_zsZXm3oYN"
      },
      "source": [
        "import zipfile\n",
        "with zipfile.ZipFile(\"/content/DOUBLE_UNet_RESULT_VGGNet.zip\", 'r') as zip_ref:\n",
        "    zip_ref.extractall(\"/content\")\n",
        "\n"
      ],
      "execution_count": 15,
      "outputs": []
    },
    {
      "cell_type": "code",
      "metadata": {
        "id": "FiihT1PZFWGd"
      },
      "source": [
        "\n",
        "import cv2\n",
        "import os\n",
        "from google.colab.patches import cv2_imshow\n",
        "import numpy as np\n",
        "images = []\n",
        "import PIL \n",
        "from PIL import Image\n",
        "from PIL import ImageOps\n"
      ],
      "execution_count": 146,
      "outputs": []
    },
    {
      "cell_type": "code",
      "metadata": {
        "id": "n5MnHX94MW7S",
        "colab": {
          "base_uri": "https://localhost:8080/"
        },
        "outputId": "12827428-6d46-420f-9b19-31f738086d5b"
      },
      "source": [
        "from google.colab.patches import cv2_imshow\n",
        "import random\n",
        "files = os.listdir('/content/DOUBLE_UNet_RESULT_VGGNet/')\n",
        "#print(len(files))\n",
        "#l = random.sample(range(0, len(files) ) ,3)\n",
        "f = files.copy()\n",
        "ff = []\n",
        "for file in f:\n",
        "  ff.append(file.split(\".\")[0])\n",
        "\n",
        "fff = []\n",
        "for f in ff:\n",
        "  fff.append(int(f))\n",
        "\n",
        "\n",
        "correct = 0\n",
        "uncorrect = 0\n",
        "\n",
        "images = []\n",
        "for index in fff:\n",
        "  img = cv2.imread('/content/DOUBLE_UNet_RESULT_VGGNet/{}.png'.format(index))\n",
        "\n",
        "  img = cv2.cvtColor(img, cv2.COLOR_BGR2GRAY)\n",
        "\n",
        "  img = np.asarray(img).astype(\"float32\")\n",
        "\n",
        "\n",
        "  img1 = img[: , 270:270 + 250]\n",
        "  img1 = img1/255.0\n",
        "  img1[img1 >= 0.5]  = 255.0\n",
        "  img1[img1 < 0.5] = 0.0\n",
        "\n",
        "  img2 = img[: ,270 + 250 + 30 :  ]\n",
        "  img2 = img2/255.0\n",
        "  img2[img2 >= 0.5]  = 255.0\n",
        "  img2[img2 < 0.5] = 0.0\n",
        "\n",
        "  if np.max(img1) == np.max(img2):\n",
        "    correct +=1\n",
        "  else:\n",
        "    uncorrect +=1\n",
        "\n",
        "  img = cv2.hconcat([img1, img2])\n",
        "\n",
        "\n",
        "  images.append(img)\n",
        "\n",
        "#img = cv2.hconcat(images)\n",
        "\n",
        "#cv2_imshow(img)\n",
        "cv2.waitKey(0)\n",
        "\n",
        "print(\"Correct:\",correct)\n",
        "print(\"Uncorrect:\",uncorrect)\n"
      ],
      "execution_count": 151,
      "outputs": [
        {
          "output_type": "stream",
          "text": [
            "Correct 141\n",
            "Uncorrect 9\n"
          ],
          "name": "stdout"
        }
      ]
    },
    {
      "cell_type": "code",
      "metadata": {
        "colab": {
          "base_uri": "https://localhost:8080/"
        },
        "id": "MGNxhz4Ey6Q4",
        "outputId": "e8629381-54b2-4349-ce5b-cdeed814cc8a"
      },
      "source": [
        "\n"
      ],
      "execution_count": 145,
      "outputs": [
        {
          "output_type": "stream",
          "text": [
            "141\n",
            "9\n"
          ],
          "name": "stdout"
        }
      ]
    },
    {
      "cell_type": "code",
      "metadata": {
        "colab": {
          "base_uri": "https://localhost:8080/"
        },
        "id": "my-NLq3C58lP",
        "outputId": "6a06242c-4657-4cca-b7b6-5c502beb1158"
      },
      "source": [
        ""
      ],
      "execution_count": 138,
      "outputs": [
        {
          "output_type": "execute_result",
          "data": {
            "text/plain": [
              "[19,\n",
              " 32,\n",
              " 117,\n",
              " 113,\n",
              " 75,\n",
              " 74,\n",
              " 58,\n",
              " 28,\n",
              " 23,\n",
              " 48,\n",
              " 51,\n",
              " 81,\n",
              " 136,\n",
              " 67,\n",
              " 9,\n",
              " 76,\n",
              " 17,\n",
              " 115,\n",
              " 139,\n",
              " 90,\n",
              " 33,\n",
              " 89,\n",
              " 37,\n",
              " 42,\n",
              " 13,\n",
              " 146,\n",
              " 147,\n",
              " 45,\n",
              " 145,\n",
              " 38,\n",
              " 80,\n",
              " 129,\n",
              " 66,\n",
              " 40,\n",
              " 102,\n",
              " 103,\n",
              " 144,\n",
              " 118,\n",
              " 143,\n",
              " 107,\n",
              " 130,\n",
              " 100,\n",
              " 1,\n",
              " 64,\n",
              " 35,\n",
              " 82,\n",
              " 53,\n",
              " 62,\n",
              " 83,\n",
              " 126,\n",
              " 96,\n",
              " 4,\n",
              " 98,\n",
              " 29,\n",
              " 0,\n",
              " 121,\n",
              " 112,\n",
              " 25,\n",
              " 135,\n",
              " 148,\n",
              " 55,\n",
              " 7,\n",
              " 57,\n",
              " 63,\n",
              " 93,\n",
              " 87,\n",
              " 36,\n",
              " 95,\n",
              " 56,\n",
              " 10,\n",
              " 3,\n",
              " 50,\n",
              " 12,\n",
              " 106,\n",
              " 108,\n",
              " 128,\n",
              " 8,\n",
              " 21,\n",
              " 97,\n",
              " 124,\n",
              " 71,\n",
              " 127,\n",
              " 122,\n",
              " 47,\n",
              " 60,\n",
              " 140,\n",
              " 116,\n",
              " 141,\n",
              " 6,\n",
              " 70,\n",
              " 111,\n",
              " 72,\n",
              " 54,\n",
              " 137,\n",
              " 91,\n",
              " 101,\n",
              " 15,\n",
              " 138,\n",
              " 92,\n",
              " 16,\n",
              " 20,\n",
              " 131,\n",
              " 2,\n",
              " 134,\n",
              " 24,\n",
              " 119,\n",
              " 94,\n",
              " 5,\n",
              " 78,\n",
              " 65,\n",
              " 110,\n",
              " 14,\n",
              " 52,\n",
              " 49,\n",
              " 86,\n",
              " 99,\n",
              " 22,\n",
              " 11,\n",
              " 69,\n",
              " 84,\n",
              " 39,\n",
              " 30,\n",
              " 26,\n",
              " 41,\n",
              " 59,\n",
              " 44,\n",
              " 73,\n",
              " 43,\n",
              " 77,\n",
              " 79,\n",
              " 61,\n",
              " 85,\n",
              " 68,\n",
              " 132,\n",
              " 88,\n",
              " 133,\n",
              " 123,\n",
              " 104,\n",
              " 142,\n",
              " 114,\n",
              " 105,\n",
              " 46,\n",
              " 120,\n",
              " 125,\n",
              " 31,\n",
              " 27,\n",
              " 34,\n",
              " 109,\n",
              " 149,\n",
              " 18]"
            ]
          },
          "metadata": {
            "tags": []
          },
          "execution_count": 138
        }
      ]
    }
  ]
}